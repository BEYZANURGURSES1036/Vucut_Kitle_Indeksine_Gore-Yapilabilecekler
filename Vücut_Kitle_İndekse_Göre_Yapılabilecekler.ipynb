{
  "cells": [
    {
      "cell_type": "markdown",
      "metadata": {
        "id": "view-in-github",
        "colab_type": "text"
      },
      "source": [
        "<a href=\"https://colab.research.google.com/github/BEYZANURGURSES1036/Vucut_Kitle_Indeksine_Gore-Yapilabilecekler/blob/main/V%C3%BCcut_Kitle_%C4%B0ndekse_G%C3%B6re_Yap%C4%B1labilecekler.ipynb\" target=\"_parent\"><img src=\"https://colab.research.google.com/assets/colab-badge.svg\" alt=\"Open In Colab\"/></a>"
      ]
    },
    {
      "cell_type": "code",
      "source": [
        "print(\"\"\"VÜCUT KİTLE İNDEKS HESABINA GÖRE YAPABİLECEKLER 🥗\n",
        "        SİSTEMİMİZE HOŞGELDİNİZ\n",
        "    \"\"\")\n",
        "ad=input(\"Adınızı giriniz : \")\n",
        "soyad = input(\"Soyadınızı giriniz : \")\n",
        "boy = float(input(\"Boyunuzu metre cinsinden giriniz (Örn:1.70 m):\"))\n",
        "kilo = float(input(\"Kilonuzu kg cinsinden giriniz (Örn: 65.5 kg):\"))\n",
        " \n",
        "vucut_indeks  = kilo/(boy*boy)\n",
        "def indeks():\n",
        "  if vucut_indeks <18:\n",
        "    return (\" Zayıf ; Vücut Kitle İndeks Sonucu:{}\".format(vucut_indeks))\n",
        "  elif vucut_indeks >= 18 and vucut_indeks <25 :\n",
        "    return (\" Normal ; Vücut Kitle İndeks Sonucu:{}\".format(vucut_indeks))\n",
        "  elif vucut_indeks >= 25 and vucut_indeks <30:\n",
        "    return (\" Kilolu ; Vücut Kitle İndeks Sonucu:{}\".format(vucut_indeks))\n",
        "  elif vucut_indeks >= 30 and vucut_indeks <35:\n",
        "    return (\" Obez ; Vücut Kitle İndeks Sonucu:{}\".format(vucut_indeks))\n",
        "  else:\n",
        "    return (\" Ciddi Obez ; Vücut Kitle İndeks Sonucu:{}\".format(vucut_indeks))\n",
        "\n",
        "sonuc=indeks()\n",
        "\n",
        "def tavsiye():\n",
        "  if sonuc == \"zayıf\":\n",
        "    Z=['Karbonhidratlı Besinler yiyebilirsin','Çok hareket etmemelisin']\n",
        "    return Z\n",
        "  elif sonuc == \"normal\":\n",
        "    N=['Düzenli beslenmeye devam edebilirsin','Yürüyüş yapabilirsin']\n",
        "    return N\n",
        "  elif sonuc == \"kilolu\":\n",
        "    K=['Geç vakitte yemek yememen gerekir','Suyu daha fazla tüketibilirsin']\n",
        "    return K\n",
        "  elif sonuc == \"obez\":\n",
        "    O=['Düzenli spora başlamalısın','Az yemek yiyebilirsin']\n",
        "    return O\n",
        "  else:\n",
        "    C=['Doktora gitmelisin','Sağlığın için daha dikkatli olmalısın']\n",
        "    return C\n",
        "sonuc1=tavsiye()\n",
        "yazdırma={\"Sonuçlarım\":sonuc ,\"Yapabileceklerim\":sonuc1}\n",
        "print(yazdırma)\n"
      ],
      "metadata": {
        "colab": {
          "base_uri": "https://localhost:8080/"
        },
        "id": "0UODKE0hdfBI",
        "outputId": "d25bdd19-e680-4095-f97a-960c5fd6c9cc"
      },
      "execution_count": 1,
      "outputs": [
        {
          "output_type": "stream",
          "name": "stdout",
          "text": [
            "VÜCUT KİTLE İNDEKS HESABINA GÖRE YAPABİLECEKLER 🥗\n",
            "        SİSTEMİMİZE HOŞGELDİNİZ\n",
            "    \n",
            "Adınızı giriniz : Beyzanur\n",
            "Soyadınızı giriniz : Gürses\n",
            "Boyunuzu metre cinsinden giriniz (Örn:1.70 m):1.45\n",
            "Kilonuzu kg cinsinden giriniz (Örn: 65.5 kg):65.4\n",
            "{'Sonuçlarım': ' Obez ; Vücut Kitle İndeks Sonucu:31.105826397146256', 'Yapabileceklerim': ['Doktora gitmelisin', 'Sağlığın için daha dikkatli olmalısın']}\n"
          ]
        }
      ]
    }
  ],
  "metadata": {
    "colab": {
      "collapsed_sections": [],
      "name": "Colaboratory'ye Hoş Geldiniz",
      "toc_visible": true,
      "provenance": [],
      "include_colab_link": true
    },
    "kernelspec": {
      "display_name": "Python 3",
      "name": "python3"
    }
  },
  "nbformat": 4,
  "nbformat_minor": 0
}